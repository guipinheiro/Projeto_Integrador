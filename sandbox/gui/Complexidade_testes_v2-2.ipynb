{
 "cells": [
  {
   "cell_type": "markdown",
   "metadata": {},
   "source": [
    "# Complexidade dos Testes"
   ]
  },
  {
   "cell_type": "markdown",
   "metadata": {},
   "source": [
    "<span style=\"color:blue\"> **Próximos Passos:** </span>\n",
    "\n",
    "Sistemas Envolvidos - Montar nivel de Complexidade\n",
    "- Tempo Execução\n",
    "- Quantidade de Steps\n",
    "- Combinação com o Sistema Principal\n",
    "- Um Cenrário, todos os Casos de testes são feitos no mesmo sistema?\n",
    "- Poderá ter vies do funcionario ter mais habilidade e por isso o tempo de execução ser menor?\n",
    "- Faturável ou não faturável: Pode ter maior concentração de rejeição em algum sistema"
   ]
  },
  {
   "cell_type": "code",
   "execution_count": null,
   "metadata": {},
   "outputs": [],
   "source": [
    "# Map the Dependencies\n",
    "import pandas as pd\n",
    "import numpy as np\n",
    "from matplotlib import pyplot as plt\n",
    "import seaborn as sns\n",
    "import missingno as msno\n",
    "import re\n",
    "\n",
    "sns.set()\n",
    "\n",
    "plt.style.use('seaborn')\n",
    "\n",
    "import warnings\n",
    "warnings.filterwarnings('ignore')\n",
    "\n",
    "%matplotlib inline"
   ]
  },
  {
   "cell_type": "markdown",
   "metadata": {},
   "source": [
    "    ### 1. Import das bases de Execução"
   ]
  },
  {
   "cell_type": "code",
   "execution_count": null,
   "metadata": {},
   "outputs": [],
   "source": [
    "exec_fat = pd.read_csv(r\"C:\\Users\\Dell\\Documents\\Luana\\Digital_House\\Projeto_Integrador\\Base_Dados-20190522T191705Z-001\\Base_Dados\\CSVs\\CSVs-20190611T002553Z-001\\CSVs\\Exec_Faturaveis.csv\", \n",
    "                       parse_dates=['Data_Execucao', 'Data_FechamentoCenario', 'Hora_Execucao', 'Fechamento_CT'])\n",
    "exec_nfat = pd.read_csv(r\"C:\\Users\\Dell\\Documents\\Luana\\Digital_House\\Projeto_Integrador\\Base_Dados-20190522T191705Z-001\\Base_Dados\\CSVs\\CSVs-20190611T002553Z-001\\CSVs\\Exec_NaoFaturaveis.csv\",\n",
    "                       parse_dates=['Data_Execucao', 'Data_FechamentoCenario', 'Hora_Execucao','Fechamento_CT'])\n",
    "exec_fcst = pd.read_csv(r\"C:\\Users\\Dell\\Documents\\Luana\\Digital_House\\Projeto_Integrador\\Base_Dados-20190522T191705Z-001\\Base_Dados\\CSVs\\CSVs-20190611T002553Z-001\\CSVs\\Exec_Forecast.csv\",\n",
    "                       parse_dates=['Data_Execucao', 'Data_FechamentoCenario', 'Hora_Execucao', 'Fechamento_CT'])"
   ]
  },
  {
   "cell_type": "code",
   "execution_count": null,
   "metadata": {},
   "outputs": [],
   "source": [
    "exec_full = pd.concat([exec_fat, exec_nfat, exec_fcst], ignore_index=True)\n",
    "exec_full.tail()\n",
    "exec_full.shape"
   ]
  },
  {
   "cell_type": "code",
   "execution_count": null,
   "metadata": {},
   "outputs": [],
   "source": [
    "exec_full.columns\n",
    "exec_full.shape"
   ]
  },
  {
   "cell_type": "markdown",
   "metadata": {},
   "source": [
    "### 2. Filtra somente testes com tempo de execução"
   ]
  },
  {
   "cell_type": "code",
   "execution_count": null,
   "metadata": {},
   "outputs": [],
   "source": [
    "# Filtra somente testes com tempo de execução\n",
    "exec_full_valid = exec_full[exec_full[\"Duracao_Segundos\"]>0]"
   ]
  },
  {
   "cell_type": "code",
   "execution_count": null,
   "metadata": {},
   "outputs": [],
   "source": [
    "exec_full_valid.shape"
   ]
  },
  {
   "cell_type": "code",
   "execution_count": null,
   "metadata": {},
   "outputs": [],
   "source": [
    "len(exec_full_valid.Nome_CT.unique())"
   ]
  },
  {
   "cell_type": "markdown",
   "metadata": {},
   "source": [
    "### 3. Extraindo somente o verbo da Execução"
   ]
  },
  {
   "cell_type": "code",
   "execution_count": null,
   "metadata": {},
   "outputs": [],
   "source": [
    "# Substituir os espaços \" - \" por \"-\"\n",
    "exec_full_valid['Nome_CT'] = exec_full_valid['Nome_CT'].apply([lambda x: re.sub(r'\\s+', ' ', x)])\n",
    "exec_full_valid['Nome_CT'] = exec_full_valid['Nome_CT'].apply([lambda x: x.replace(r' - ', '-')])"
   ]
  },
  {
   "cell_type": "code",
   "execution_count": null,
   "metadata": {},
   "outputs": [],
   "source": [
    "# Extrair somente o verbo o caso de teste\n",
    "def verbo_CT (texto):\n",
    "    a = texto.split(\" \", 1)[0]\n",
    "    a.split(' ', 1)\n",
    "    word1 = \" \".join(re.findall(\"[a-zA-Z]+\", a))\n",
    "    #verbo = word1.split(\" \", 1)[1]\n",
    "    return word1\n",
    "\n",
    "def replace_CT (texto):\n",
    "    verbo = texto.split(\" \", 10)[1]\n",
    "    return verbo"
   ]
  },
  {
   "cell_type": "code",
   "execution_count": null,
   "metadata": {},
   "outputs": [],
   "source": [
    "# Tratando na mão casos bizarros\n",
    "exec_full_valid['Verbo_test'] = exec_full_valid['Nome_CT'].apply(lambda x : verbo_CT(x))\n",
    "exec_full_valid['Verbo_test'] = exec_full_valid['Verbo_test'].apply([lambda x: x.replace('CT', '')])\n",
    "exec_full_valid['Verbo_test'] = exec_full_valid['Verbo_test'].apply([lambda x: x.replace('C T ATLYS ', '')])\n",
    "exec_full_valid['Verbo_test'] = exec_full_valid['Verbo_test'].apply([lambda x: x.replace('C T API ', '')])\n",
    "exec_full_valid['Verbo_test'] = exec_full_valid['Verbo_test'].apply([lambda x: x.replace('C T NGIN ', '')])\n",
    "exec_full_valid['Verbo_test'] = exec_full_valid['Verbo_test'].apply([lambda x: x.replace('T ', '')])\n",
    "exec_full_valid['Verbo_test'] = exec_full_valid['Verbo_test'].apply([lambda x: x.replace('TC ', '')])\n",
    "exec_full_valid['Verbo_test'] = exec_full_valid['Verbo_test'].apply([lambda x: x.replace('CN ', '')])\n",
    "exec_full_valid['Verbo_test'] = exec_full_valid['Verbo_test'].apply([lambda x: x.replace('C BDFIN ', '')])\n",
    "exec_full_valid['Verbo_test'] = exec_full_valid['Verbo_test'].apply([lambda x: x.replace('C PUTTY ', '')])\n",
    "exec_full_valid['Verbo_test'] = exec_full_valid['Verbo_test'].apply([lambda x: x.replace('C BDA ', '')])\n",
    "exec_full_valid['Verbo_test'] = exec_full_valid['Verbo_test'].apply([lambda x: x.replace('ATLYS ', '')])\n",
    "exec_full_valid['Verbo_test'] = exec_full_valid['Verbo_test'].apply([lambda x: x.replace('C Putty ', '')])\n",
    "exec_full_valid['Verbo_test'] = exec_full_valid['Verbo_test'].apply([lambda x: x.replace('C Atlys', '')])\n",
    "exec_full_valid['Verbo_test'] = exec_full_valid['Verbo_test'].apply([lambda x: x.replace('C ', '')])\n",
    "exec_full_valid['Verbo_test'] = exec_full_valid['Verbo_test'].apply([lambda x: x.replace('PUTTY', '')])"
   ]
  },
  {
   "cell_type": "code",
   "execution_count": null,
   "metadata": {},
   "outputs": [],
   "source": [
    "exec_full_valid['Verbo_test'] = exec_full_valid['Verbo_test'].apply([lambda x: x.replace(r' ', '')])"
   ]
  },
  {
   "cell_type": "markdown",
   "metadata": {},
   "source": [
    "### 4. DataSet dos Sisitemas + Verbo"
   ]
  },
  {
   "cell_type": "code",
   "execution_count": null,
   "metadata": {},
   "outputs": [],
   "source": [
    "complex_sist = exec_full_valid.groupby(['Sistemas_Envolvidos','Sistema_Principal','Verbo_test']).agg({'Testador_Real': {\"qtde_total_teste\": 'count'},\n",
    "                                                                                   'Duracao_Segundos': {\"tempo_medio\": 'mean', \"tempo_min\": 'min', \"tempo_max\": 'max', \"tempo_total\": 'sum', \"tempo_std\": 'std'},\n",
    "                                                                                   'Qtde_TotalSteps': {\"qtde_steps_medio\": 'mean',\"qtde_steps_min\": 'min',\"qtde_steps_max\": 'max',\"qtde_steps_sum\": 'sum', \"qtde_steps_std\": 'std'},\n",
    "                                                                                   'Qtde_StepsATTACHMENT': {\"qtde_steps_att_medio\": 'mean',\"qtde_steps_att_min\": 'min',\"qtde_steps_att_max\": 'max',\"qtde_steps_att_sum\": 'sum',\"qtde_steps_att_std\": 'std'},\n",
    "                                                                                   'Qtde_ExecPassed': {\"qtde_steps_pass_medio\": 'mean',\"qtde_step_pass_min\": 'min',\"qtde_steps_pass_max\": 'max',\"qtde_steps_pass_sum\": 'sum', \"qtde_steps_pass_std\": 'std'}})\n",
    "                                                                                  \n",
    "                                                                        \n",
    "complex_sist.columns = complex_sist.columns.droplevel(0)\n",
    "complex_sist = complex_sist.reset_index()\n",
    "complex_sist.head(2)                                                                "
   ]
  },
  {
   "cell_type": "code",
   "execution_count": null,
   "metadata": {},
   "outputs": [],
   "source": [
    "complex_sist.shape"
   ]
  },
  {
   "cell_type": "code",
   "execution_count": null,
   "metadata": {},
   "outputs": [],
   "source": [
    "complex_sist.describe().T"
   ]
  },
  {
   "cell_type": "markdown",
   "metadata": {},
   "source": [
    "# Ideia Sucesso da Bel"
   ]
  },
  {
   "cell_type": "code",
   "execution_count": null,
   "metadata": {},
   "outputs": [],
   "source": [
    "complex_sist['tempo_medio_step'] = complex_sist['tempo_total']/complex_sist['qtde_steps_sum']"
   ]
  },
  {
   "cell_type": "code",
   "execution_count": null,
   "metadata": {},
   "outputs": [],
   "source": [
    "complex_sist['score_tempo_medio_step'] = pd.qcut(complex_sist['tempo_medio_step'], 10, labels=[1, 2, 3, 4, 5, 6, 7, 8, 9,10])"
   ]
  },
  {
   "cell_type": "code",
   "execution_count": null,
   "metadata": {},
   "outputs": [],
   "source": [
    "complex_sist.groupby('score_tempo_medio_step')['tempo_medio_step'].mean()"
   ]
  },
  {
   "cell_type": "code",
   "execution_count": null,
   "metadata": {},
   "outputs": [],
   "source": [
    "complex_sist['score_qtde_steps_medio'] = pd.qcut(complex_sist['qtde_steps_medio'], 10, labels=[1, 2, 3, 4, 5, 6, 7, 8, 9,10])"
   ]
  },
  {
   "cell_type": "code",
   "execution_count": null,
   "metadata": {},
   "outputs": [],
   "source": [
    "complex_sist.groupby('score_qtde_steps_medio')['qtde_steps_medio'].mean()"
   ]
  },
  {
   "cell_type": "code",
   "execution_count": null,
   "metadata": {},
   "outputs": [],
   "source": [
    "complex_sist['score_final'] = complex_sist.apply(lambda x: x['score_tempo_medio_step']*2 + x['score_qtde_steps_medio'], axis=1)"
   ]
  },
  {
   "cell_type": "code",
   "execution_count": null,
   "metadata": {},
   "outputs": [],
   "source": [
    "complex_sist.groupby('score_final')['qtde_steps_medio'].mean()"
   ]
  },
  {
   "cell_type": "code",
   "execution_count": null,
   "metadata": {},
   "outputs": [],
   "source": [
    "score = complex_sist.groupby(['score_final', 'Sistema_Principal']).agg({'qtde_steps_medio': {\"qtde_steps_medio\": 'mean'},\n",
    "                                                   'tempo_medio_step': {\"tempo_medio_step\": 'mean'},\n",
    "                                                   'Sistema_Principal': {\"qtde\": 'count'},\n",
    "                                                  })\n",
    "                                                                                                                                                           \n",
    "score.columns = score.columns.droplevel(0)\n",
    "score = score.reset_index()  \n",
    "score"
   ]
  },
  {
   "cell_type": "code",
   "execution_count": null,
   "metadata": {},
   "outputs": [],
   "source": [
    "score.to_excel('score_sistemas.xlsx', engine='xlsxwriter')"
   ]
  },
  {
   "cell_type": "code",
   "execution_count": null,
   "metadata": {},
   "outputs": [],
   "source": []
  },
  {
   "cell_type": "code",
   "execution_count": null,
   "metadata": {},
   "outputs": [],
   "source": []
  },
  {
   "cell_type": "code",
   "execution_count": null,
   "metadata": {},
   "outputs": [],
   "source": []
  },
  {
   "cell_type": "code",
   "execution_count": null,
   "metadata": {},
   "outputs": [],
   "source": []
  },
  {
   "cell_type": "code",
   "execution_count": null,
   "metadata": {},
   "outputs": [],
   "source": []
  },
  {
   "cell_type": "code",
   "execution_count": null,
   "metadata": {},
   "outputs": [],
   "source": [
    "len(complex_sist['Sistema_Principal'].unique())"
   ]
  },
  {
   "cell_type": "code",
   "execution_count": null,
   "metadata": {},
   "outputs": [],
   "source": [
    "len(complex_sist['Sistemas_Envolvidos'].unique())"
   ]
  },
  {
   "cell_type": "markdown",
   "metadata": {},
   "source": [
    "### 5. DataSet do tempo gasto de acordo com o VERBO"
   ]
  },
  {
   "cell_type": "code",
   "execution_count": null,
   "metadata": {},
   "outputs": [],
   "source": [
    "verbo = exec_full_valid.groupby(['Verbo_test']).agg({'Duracao_Segundos': {\"tempo_medio\": 'mean', \"tempo_min\": 'min', \"tempo_max\": 'max'},\n",
    "                                                     'Qtde_TotalSteps': {\"qtde_steps_medio\": 'mean',\"qtde_steps_min\": 'min',\"qtde_steps_max\": 'max'}})\n",
    "                                                                                  \n",
    "                                                                        \n",
    "verbo.columns = verbo.columns.droplevel(0)\n",
    "verbo = verbo.reset_index()\n",
    "verbo.head()  "
   ]
  },
  {
   "cell_type": "code",
   "execution_count": null,
   "metadata": {},
   "outputs": [],
   "source": [
    "verbo.shape"
   ]
  },
  {
   "cell_type": "code",
   "execution_count": null,
   "metadata": {},
   "outputs": [],
   "source": [
    "verbo.describe().T"
   ]
  },
  {
   "cell_type": "markdown",
   "metadata": {},
   "source": [
    "### 6. Combinando os dois DataSets e Extraindo as Dumies da combinação dos sistemas"
   ]
  },
  {
   "cell_type": "code",
   "execution_count": null,
   "metadata": {},
   "outputs": [],
   "source": [
    "complex_sist = complex_sist.merge(verbo, left_on='Verbo_test', right_on='Verbo_test',suffixes=('', '_verbo'))\n",
    "complex_sist.tail()"
   ]
  },
  {
   "cell_type": "code",
   "execution_count": null,
   "metadata": {},
   "outputs": [],
   "source": [
    "sist_dummies = complex_sist.Sistema_Principal.str.get_dummies(sep =\";\")"
   ]
  },
  {
   "cell_type": "code",
   "execution_count": null,
   "metadata": {},
   "outputs": [],
   "source": [
    "sist_dummies.shape"
   ]
  },
  {
   "cell_type": "code",
   "execution_count": null,
   "metadata": {},
   "outputs": [],
   "source": [
    "complex_sist.shape"
   ]
  },
  {
   "cell_type": "code",
   "execution_count": null,
   "metadata": {},
   "outputs": [],
   "source": [
    "import missingno as msno\n",
    "msno.matrix(complex_sist)"
   ]
  },
  {
   "cell_type": "code",
   "execution_count": null,
   "metadata": {},
   "outputs": [],
   "source": [
    "#complex_sist_fim = pd.concat([sist_dummies, complex_sist], join=\"inner\")\n",
    "complex_sist_fim = complex_sist.merge(sist_dummies, left_on=sist_dummies.index, right_on=complex_sist.index)\n",
    "complex_sist_fim.tail()"
   ]
  },
  {
   "cell_type": "code",
   "execution_count": null,
   "metadata": {},
   "outputs": [],
   "source": [
    "complex_sist_fim.shape"
   ]
  },
  {
   "cell_type": "code",
   "execution_count": null,
   "metadata": {},
   "outputs": [],
   "source": [
    "list(complex_sist_fim.columns)"
   ]
  },
  {
   "cell_type": "code",
   "execution_count": null,
   "metadata": {},
   "outputs": [],
   "source": [
    "# Dropei estas columas por conterem missing \n",
    "complex_sist_fim = complex_sist_fim.drop(['key_0', \"tempo_std\", \"qtde_steps_std\", \"qtde_steps_pass_std\",'qtde_steps_att_std'], axis=1)"
   ]
  },
  {
   "cell_type": "markdown",
   "metadata": {},
   "source": [
    "### 7. Cluster da Complexidade"
   ]
  },
  {
   "cell_type": "code",
   "execution_count": null,
   "metadata": {},
   "outputs": [],
   "source": [
    "#Verifica presença de missing\n",
    "import missingno as msno\n",
    "msno.matrix(complex_sist_fim)"
   ]
  },
  {
   "cell_type": "code",
   "execution_count": null,
   "metadata": {},
   "outputs": [],
   "source": [
    "complex_sist_fim['tempo_medio_step'] = complex_sist_fim['tempo_total']/complex_sist_fim['qtde_steps_sum']"
   ]
  },
  {
   "cell_type": "code",
   "execution_count": null,
   "metadata": {},
   "outputs": [],
   "source": [
    "complex_sist_fim.describe().T"
   ]
  },
  {
   "cell_type": "code",
   "execution_count": null,
   "metadata": {},
   "outputs": [],
   "source": [
    "# Dropei estas columas que se relacionam com tempo por step\n",
    "columas_logit = complex_sist_fim.drop([\"tempo_total\", \"qtde_steps_sum\"], axis=1)"
   ]
  },
  {
   "cell_type": "code",
   "execution_count": null,
   "metadata": {},
   "outputs": [],
   "source": [
    "columas_logit.head()"
   ]
  },
  {
   "cell_type": "markdown",
   "metadata": {},
   "source": [
    "## <a id='1.1'> 8. Clustering Complexidade dos Testes por Sistema </a>\n",
    "Voltar: <a href='#0'>Sumário  </a>"
   ]
  },
  {
   "cell_type": "code",
   "execution_count": null,
   "metadata": {},
   "outputs": [],
   "source": [
    "columas_logit.info(verbose=True)"
   ]
  },
  {
   "cell_type": "markdown",
   "metadata": {},
   "source": [
    "### 8. Clustering"
   ]
  },
  {
   "cell_type": "code",
   "execution_count": null,
   "metadata": {},
   "outputs": [],
   "source": [
    "columas_logit = complex_sist_fim.drop([\"tempo_total\", \"qtde_steps_sum\"], axis=1)"
   ]
  },
  {
   "cell_type": "code",
   "execution_count": null,
   "metadata": {},
   "outputs": [],
   "source": [
    "corr = complex_sist.corr()\n",
    "mask = np.zeros_like(corr)\n",
    "mask[np.triu_indices_from(mask)] = True\n",
    "\n",
    "with sns.axes_style(\"white\"):\n",
    "    fig, ax = plt.subplots(figsize=(15, 12));\n",
    "    \n",
    "    sns.heatmap(\n",
    "        corr,\n",
    "        ax=ax,\n",
    "        annot=True,\n",
    "        mask=mask,\n",
    "        square=True\n",
    "    );"
   ]
  },
  {
   "cell_type": "code",
   "execution_count": null,
   "metadata": {},
   "outputs": [],
   "source": [
    "list(columas_logit.columns)"
   ]
  },
  {
   "cell_type": "code",
   "execution_count": null,
   "metadata": {},
   "outputs": [],
   "source": [
    "def run_regression(df,function):\n",
    "    model = smf.ols(function, df).fit()\n",
    "    print(model.summary())"
   ]
  },
  {
   "cell_type": "code",
   "execution_count": null,
   "metadata": {},
   "outputs": [],
   "source": [
    "run_regression(columas_logit,'''tempo_medio_step ~  \n",
    "qtde_total_teste \n",
    "+ tempo_min \n",
    "+ tempo_max''')"
   ]
  },
  {
   "cell_type": "code",
   "execution_count": null,
   "metadata": {},
   "outputs": [],
   "source": [
    "list(complex_sist.columns)"
   ]
  },
  {
   "cell_type": "markdown",
   "metadata": {},
   "source": [
    "### Clustering"
   ]
  },
  {
   "cell_type": "code",
   "execution_count": null,
   "metadata": {},
   "outputs": [],
   "source": [
    "colunas_clustering = complex_sist.drop([   \n",
    "\"Sistema_Principal\",\n",
    "\"Sistemas_Envolvidos\",\n",
    "\"Verbo_test\",   \n",
    "\"qtde_steps_att_sum\",\n",
    "\"qtde_steps_att_max\",\n",
    "\"tempo_medio_verbo\",\n",
    "\"tempo_min_verbo\",\n",
    "\"qtde_steps_min\",\n",
    "\"qtde_steps_max\",\n",
    "\"tempo_min\",\n",
    "\"qtde_steps_pass_medio\",\n",
    "\"qtde_steps_pass_max\",\n",
    "\"tempo_std\", \n",
    "\"qtde_steps_std\", \n",
    "\"qtde_steps_pass_std\",\n",
    "'qtde_steps_att_std'\n",
    "], axis=1)"
   ]
  },
  {
   "cell_type": "code",
   "execution_count": null,
   "metadata": {},
   "outputs": [],
   "source": [
    "#Verifica presença de missing\n",
    "import missingno as msno\n",
    "msno.matrix(colunas_clustering)"
   ]
  },
  {
   "cell_type": "code",
   "execution_count": null,
   "metadata": {},
   "outputs": [],
   "source": [
    "colunas_clustering.columns"
   ]
  },
  {
   "cell_type": "code",
   "execution_count": null,
   "metadata": {},
   "outputs": [],
   "source": [
    "from sklearn.cluster import KMeans\n",
    "\n",
    "plt.rcParams['figure.figsize'] = (12, 6)\n",
    "\n",
    "def metodo_elbow(max_nro_clusters, X):\n",
    "    wcss = [] \n",
    "    for i in range(1, max_nro_clusters):\n",
    "        kmeans = KMeans(n_clusters = i, init = 'random')\n",
    "        kmeans.fit(X)\n",
    "        #print (i,kmeans.inertia_)\n",
    "        wcss.append(kmeans.inertia_)  \n",
    "    plt.plot(range(1, max_nro_clusters), wcss)\n",
    "    plt.title('O Metodo Elbow')\n",
    "    plt.xlabel('Numero de Clusters')\n",
    "    plt.ylabel('WSS') #within cluster sum of squares\n",
    "simulacao = metodo_elbow(15, colunas_clustering)"
   ]
  },
  {
   "cell_type": "code",
   "execution_count": null,
   "metadata": {},
   "outputs": [],
   "source": [
    "!pip install kmodes"
   ]
  },
  {
   "cell_type": "code",
   "execution_count": null,
   "metadata": {},
   "outputs": [],
   "source": [
    "import numpy as np\n",
    "from kmodes.kmodes import KModes\n",
    "\n",
    "# random categorical data\n",
    "data = complex_sist_fim\n",
    "\n",
    "km = KModes(n_clusters=6, init='Huang', n_init=5, verbose=1)\n",
    "\n",
    "clusters = km.fit_predict(data)\n",
    "\n",
    "# Print the cluster centroids\n",
    "print(km.cluster_centroids_)"
   ]
  },
  {
   "cell_type": "code",
   "execution_count": null,
   "metadata": {},
   "outputs": [],
   "source": [
    "centroides = km.cluster_centroids_\n",
    "centroides"
   ]
  },
  {
   "cell_type": "code",
   "execution_count": null,
   "metadata": {},
   "outputs": [],
   "source": [
    "pd.DataFrame(centroides)"
   ]
  },
  {
   "cell_type": "code",
   "execution_count": null,
   "metadata": {},
   "outputs": [],
   "source": []
  },
  {
   "cell_type": "code",
   "execution_count": null,
   "metadata": {},
   "outputs": [],
   "source": []
  },
  {
   "cell_type": "code",
   "execution_count": null,
   "metadata": {},
   "outputs": [],
   "source": []
  },
  {
   "cell_type": "code",
   "execution_count": null,
   "metadata": {},
   "outputs": [],
   "source": []
  },
  {
   "cell_type": "code",
   "execution_count": null,
   "metadata": {},
   "outputs": [],
   "source": []
  },
  {
   "cell_type": "code",
   "execution_count": null,
   "metadata": {},
   "outputs": [],
   "source": [
    "list(complex_sist_fim.columns)"
   ]
  },
  {
   "cell_type": "code",
   "execution_count": null,
   "metadata": {},
   "outputs": [],
   "source": [
    "colunas_teste = complex_sist_fim[[ 'ACCESS CONTROL',\n",
    " 'ACL',\n",
    " 'ALIVIOWEB',\n",
    " 'AMDOCS',\n",
    " 'AMDOCS CUSTOMER MANAGEMENT',\n",
    " 'AMDOCS CUSTOMER MANAGEMENT - BILLING MANAGER',\n",
    " 'AMDOCS CUSTOMER MANAGEMENT - CUSTOMER INTERACTION MANAGER CIM',\n",
    " 'AMDOCS CUSTOMER MANAGEMENT - MCSS',\n",
    " 'AMDOCS CUSTOMER MANAGEMENT - MULTIMEDIA INTEGRATOR',\n",
    " 'AMDOCS CUSTOMER MANAGEMENT - ORDERING',\n",
    " 'AMDOCS CUSTOMER MANAGEMENT - SALES',\n",
    " 'AMDOCS CUSTOMER MANAGEMENT - SCRIPT MANAGER',\n",
    " 'AMDOCS FOUNDATION',\n",
    " 'AMDOCS SERVICE ORDER MANAGEMENT',\n",
    " 'AMDOCS_AB_AR',\n",
    " 'API MANAGEMENT',\n",
    " 'ASSINE Rede ',\n",
    " 'ASSINE Rede  - PF',\n",
    " 'ASSINE Rede  - PJ',\n",
    " 'ATIS',\n",
    " 'ATIS - CO',\n",
    " 'ATIS - FA',\n",
    " 'ATIS - INTERFACE TECNICA',\n",
    " 'ATLYS',\n",
    " 'BASE UNICA',\n",
    " 'BASE UNICA NOVA Rede ',\n",
    " 'BPM SAVVION - PROCESSINSTANCEAPP',\n",
    " 'CALLIDUS',\n",
    " 'CAM',\n",
    " 'CAR',\n",
    " 'CLEAR CASE',\n",
    " 'CONDOR FINANCIAL TRANSACTION MANAGEMENT - FTM',\n",
    " 'CONFIGURADOR ONLINE',\n",
    " 'CONFIGURADOR ONLINE - COL',\n",
    " 'CONFIGURADOR ONLINE - COL - SERVICE INVENTORY',\n",
    " 'CONNECTOR',\n",
    " 'CONTROL M CTBA',\n",
    " 'CSO',\n",
    " 'CSS',\n",
    " 'CT CONNECTOR',\n",
    " 'CUSTOMER SERVICE CONSOLE - CSC',\n",
    " 'CYBER',\n",
    " 'CYBER CTBA',\n",
    " 'DATA CENTER | REMEDY',\n",
    " 'DOC 1 FIXA',\n",
    " 'DW',\n",
    " 'DW - ODS',\n",
    " 'DW-ODS',\n",
    " 'ENOVA',\n",
    " 'ERICSSON REVENUE MANAGER',\n",
    " 'ESIM MANAGER',\n",
    " 'ETA',\n",
    " 'ETA DIRECT CTBA',\n",
    " 'FAT',\n",
    " 'FERRAMENTA DE CANAIS',\n",
    " 'FRAMEWORK MOBILE',\n",
    " 'FRAMEWORK MOBILE (Rede Mais  MOBILE)',\n",
    " 'FRAMEWORK SMS',\n",
    " 'GEDOC',\n",
    " 'GEDOC - GED360',\n",
    " 'GERENCIAMENTO DE SIMCARD - GSIM',\n",
    " 'GISCOVER',\n",
    " 'GPS',\n",
    " 'GPS 2.0',\n",
    " 'GPS 2.0 CRM',\n",
    " 'GPS 2.0 CRM - ADMIN',\n",
    " 'GSIM',\n",
    " 'GVOX - FWT',\n",
    " 'HOTSITE',\n",
    " 'HP ERM FMS CONVERGENTE',\n",
    " 'INFRAESTRUTURA BACKUP - TERADATA',\n",
    " 'KENAN',\n",
    " 'KENAN - EIF',\n",
    " 'LOJA ONLINE',\n",
    " 'Lista_Sistema',\n",
    " 'NAO APLICADOS QA GESTAO DE AMBIENTES',\n",
    " 'NCAM',\n",
    " 'NETCRACKER PLATFORM',\n",
    " 'NETCRACKER PLATFORM - PRODUCT CATALOG',\n",
    " 'NETCRAKER PLATFORM',\n",
    " 'NGIN',\n",
    " 'NGIN - BIT',\n",
    " 'NGIN GESTAO',\n",
    " 'NGIN GESTÃO',\n",
    " 'NOVA LOJA ONLINE',\n",
    " 'NOVO SISTEMAS DE INTEGRACAO DE ASSINANTES - NSIA',\n",
    " 'NPAC',\n",
    " 'ORACLE UNIFIED DIRECTORY - OUD',\n",
    " 'OSB',\n",
    " 'OUTROS JOB',\n",
    " 'OUTROS OSS',\n",
    " 'OUTROS WEB',\n",
    " 'PLATON',\n",
    " 'PORTABILIDADE',\n",
    " 'PORTABILIDADE - PNADMIN',\n",
    " 'PORTABILIDADE - PORTANUM',\n",
    " 'PORTABILIDADE CONVERGENTE - CT-CONNECTOR',\n",
    " 'PORTABILIDADE NUMERICA MOVEL - SPN',\n",
    " 'PORTAL INTEGRA',\n",
    " 'PORTAL INTEGRA BACKEND - SAVVION BILLING CORPORATE',\n",
    " 'PORTAL INTEGRA BACKEND - SAVVION CORPORATE',\n",
    " 'PORTAL Rede ',\n",
    " 'PORTAL SMS',\n",
    " 'POWERCURVE',\n",
    " 'PRECISION',\n",
    " 'PROCESSUM',\n",
    " 'RESOURCEMANAGEMENT - RESOURCE ACTIVATION',\n",
    " 'RESOURCEMANAGEMENT - RESOURCE INVENTORY',\n",
    " 'Rede  360',\n",
    " 'Rede  360 - CALL CENTER',\n",
    " 'Rede  360 - DEALERS',\n",
    " 'Rede  360 - LOJAS',\n",
    " 'Rede  EASY APP',\n",
    " 'Rede  NEXT',\n",
    " 'Rede  NEXT_CRM',\n",
    " 'Rede CORP',\n",
    " 'Rede Mais  APP FIXA',\n",
    " 'Rede Mais  APP FIXA - Rede Mais  APP FIXA ANDROID',\n",
    " 'Rede Mais  FIXO - MOBILE',\n",
    " 'Rede Mais  FIXO CTBA',\n",
    " 'Rede Mais  FIXO CTBA - Rede Mais  WEB PF FIXA',\n",
    " 'Rede Mais  MAIS',\n",
    " 'Rede Mais  MAIS - ANDROID',\n",
    " 'Rede Mais  MAIS - IOS',\n",
    " 'Rede Mais  PF',\n",
    " 'Rede Mais  PF - FIXA',\n",
    " 'Rede Mais  PF - MOVEL',\n",
    " 'Rede Mais  PF - Rede Mais  MOBILE PF MÓVEL',\n",
    " 'Rede Mais  PF - Rede Mais  WEB PF MÓVEL',\n",
    " 'Rede Mais  PJ',\n",
    " 'Rede NET',\n",
    " 'SAGRE',\n",
    " 'SALES FORCE AUTOMATION - SFA',\n",
    " 'SALESFORCE',\n",
    " 'SALESFORCE AUTOMATION - SFA',\n",
    " 'SAP',\n",
    " 'SAP ARIS',\n",
    " 'SAP CTBA',\n",
    " 'SAP CTBA - WEBSAP',\n",
    " 'SAP ECC MOVEL',\n",
    " 'SAP ECC MOVEL - HCM',\n",
    " 'SAP ECC UNIFICADO',\n",
    " 'SAP ECC UNIFICADO - FI',\n",
    " 'SAP ECC UNIFICADO - HCM',\n",
    " 'SAP ECC UNIFICADO - PM',\n",
    " 'SAP ECC UNIFICADO - TV',\n",
    " 'SAP FIXA',\n",
    " 'SAP NFE',\n",
    " 'SAP PORTAL',\n",
    " 'SAVVION CENSUP',\n",
    " 'SAVVION CORPORATE',\n",
    " 'SGOS',\n",
    " 'SGOS - LP',\n",
    " 'SGS',\n",
    " 'SIEBEL',\n",
    " 'SIEBEL - SMART VENDAS',\n",
    " 'SIEBEL - WEBVENDAS',\n",
    " 'SIEBEL 15',\n",
    " 'SIEBEL 7 8',\n",
    " 'SIEBEL 7.8',\n",
    " 'SIGAN',\n",
    " 'SIGITM',\n",
    " 'SIGITM - TA',\n",
    " 'SIGITM - TQ',\n",
    " 'SIGRES',\n",
    " 'SIGRES - ATIVACAO UPLOAD',\n",
    " 'SIGRES - DM THINKCAT',\n",
    " 'SIGRES - FALHAS',\n",
    " 'SIMULADOR WEB',\n",
    " 'SISNUM',\n",
    " 'SISTEMA DE GERENCIAMENTO DE PROMOCOES - SGP',\n",
    " 'SIU',\n",
    " 'SMART',\n",
    " 'SMART URA',\n",
    " 'SMARTCENTER',\n",
    " 'SMARTCENTER M2M',\n",
    " 'SMARTOFFERS',\n",
    " 'SOA CONV',\n",
    " 'SOA CONV - ALSB 2.6',\n",
    " 'SOA CONV - SOA SUITE HRS',\n",
    " 'STAR',\n",
    " 'Sistemas',\n",
    " 'TAV MOBILE',\n",
    " 'TBS',\n",
    " 'TERUS',\n",
    " 'UNIX SCRIPTS E COMANDOS PARA TROUBLESHOOTING',\n",
    " 'URA',\n",
    " 'VANTIVE DDR',\n",
    " 'VANTIVE PRISMA',\n",
    " 'VIABILIDADE TECNICA',\n",
    " 'VISUALIZADOR DE FATURAS',\n",
    " 'WEB REP',\n",
    " 'meu Rede  pf']] "
   ]
  },
  {
   "cell_type": "code",
   "execution_count": null,
   "metadata": {},
   "outputs": [],
   "source": [
    "list(complex_sist_fim.columns)"
   ]
  },
  {
   "cell_type": "code",
   "execution_count": null,
   "metadata": {},
   "outputs": [],
   "source": [
    "%%time\n",
    "\n",
    "#--------------------------------------------------------------------------------------#\n",
    "# 1) Roda o DBSCAN\n",
    "#--------------------------------------------------------------------------------------#\n",
    "from sklearn.cluster import DBSCAN\n",
    "\n",
    "dbsc = DBSCAN(eps = .1, min_samples = 10).fit(colunas_teste)\n",
    "\n",
    "labels = dbsc.labels_\n",
    "core_samples = np.zeros_like(labels, dtype = bool)\n",
    "core_samples[dbsc.core_sample_indices_] = True\n",
    "\n",
    "cluster_found_db = pd.Series(labels, name='cluster')\n",
    "colunas_teste_ = colunas_teste.set_index(cluster_found_db, append=True )\n",
    "colunas_teste_.head()\n",
    "\n",
    "print(f'Clusters DBScan: {cluster_found_db.unique()}')\n",
    "\n",
    "#--------------------------------------------------------------------------------------#\n",
    "# 3) Plotar o Resultado com um Sample de X\n",
    "#--------------------------------------------------------------------------------------#\n",
    "\n",
    "#from sklearn.manifold import TSNE\n",
    "#import matplotlib.colors\n",
    "#\n",
    "#tsne = TSNE()\n",
    "#color_list = ['blue','red','green', 'orange', 'yellow', 'pink']\n",
    "#results_tsne = tsne.fit_transform(X)\n",
    "#\n",
    "#cmap = matplotlib.colors.LinearSegmentedColormap.from_list(labels, color_list)\n",
    "#print(cmap)\n",
    "#\n",
    "#plt.scatter(results_tsne[:,0], results_tsne[:,1],\n",
    "#    c=df0_.index.get_level_values('cluster'),\n",
    "#    cmap=cmap, \n",
    "#    alpha=0.6, \n",
    "#    )\n",
    "#plt.title(\"DBScan - DataSet Original\")"
   ]
  },
  {
   "cell_type": "code",
   "execution_count": null,
   "metadata": {},
   "outputs": [],
   "source": [
    "len(colunas_teste.columns)     "
   ]
  },
  {
   "cell_type": "code",
   "execution_count": null,
   "metadata": {},
   "outputs": [],
   "source": [
    "from scipy.cluster.hierarchy import dendrogram, linkage  \n",
    "from matplotlib import pyplot as plt\n",
    "\n",
    "import scipy.cluster.hierarchy as shc\n",
    "\n",
    "plt.figure(figsize=(15, 10))  \n",
    "plt.title(\"Customer Dendograms\")  \n",
    "dend = shc.dendrogram(shc.linkage(colunas_teste, method='ward'))"
   ]
  },
  {
   "cell_type": "markdown",
   "metadata": {},
   "source": [
    "https://stackabuse.com/hierarchical-clustering-with-python-and-scikit-learn/"
   ]
  },
  {
   "cell_type": "code",
   "execution_count": null,
   "metadata": {},
   "outputs": [],
   "source": [
    "from scipy.cluster.hierarchy import fclusterdata\n",
    "clusters =  fclusterdata(colunas_teste, t=1)\n",
    "clusters_Hie = pd.Series(clusters)\n",
    "len(clusters_Hie.unique())"
   ]
  },
  {
   "cell_type": "code",
   "execution_count": null,
   "metadata": {},
   "outputs": [],
   "source": [
    "from sklearn.cluster import AgglomerativeClustering\n",
    "\n",
    "cluster = AgglomerativeClustering(n_clusters=5, affinity='euclidean', linkage='ward')  \n",
    "cluster_fim = cluster.fit_predict(colunas_teste)\n",
    "cluster_fim = pd.Series(cluster_fim)\n",
    "cluster_fim.value_counts()"
   ]
  },
  {
   "cell_type": "code",
   "execution_count": null,
   "metadata": {},
   "outputs": [],
   "source": []
  },
  {
   "cell_type": "code",
   "execution_count": null,
   "metadata": {},
   "outputs": [],
   "source": []
  },
  {
   "cell_type": "code",
   "execution_count": null,
   "metadata": {},
   "outputs": [],
   "source": []
  },
  {
   "cell_type": "code",
   "execution_count": null,
   "metadata": {},
   "outputs": [],
   "source": []
  },
  {
   "cell_type": "code",
   "execution_count": null,
   "metadata": {},
   "outputs": [],
   "source": []
  },
  {
   "cell_type": "code",
   "execution_count": null,
   "metadata": {},
   "outputs": [],
   "source": []
  },
  {
   "cell_type": "code",
   "execution_count": null,
   "metadata": {},
   "outputs": [],
   "source": []
  },
  {
   "cell_type": "code",
   "execution_count": null,
   "metadata": {},
   "outputs": [],
   "source": []
  },
  {
   "cell_type": "code",
   "execution_count": null,
   "metadata": {},
   "outputs": [],
   "source": []
  },
  {
   "cell_type": "code",
   "execution_count": null,
   "metadata": {},
   "outputs": [],
   "source": []
  },
  {
   "cell_type": "code",
   "execution_count": null,
   "metadata": {},
   "outputs": [],
   "source": [
    "import numpy as np\n",
    "from kmodes.kmodes import KModes\n",
    "\n",
    "# random categorical data\n",
    "data = complex_sist_fim\n",
    "\n",
    "km = KModes(n_clusters=6, init='Huang', n_init=5, verbose=1)\n",
    "\n",
    "clusters = km.fit_predict(colunas_teste)\n",
    "\n",
    "# Print the cluster centroids\n",
    "print(km.cluster_centroids_)\n",
    "centroides =km.cluster_centroids_"
   ]
  },
  {
   "cell_type": "code",
   "execution_count": null,
   "metadata": {},
   "outputs": [],
   "source": [
    "pd.DataFrame(centroides)"
   ]
  },
  {
   "cell_type": "code",
   "execution_count": null,
   "metadata": {},
   "outputs": [],
   "source": []
  }
 ],
 "metadata": {
  "kernelspec": {
   "display_name": "Python 3",
   "language": "python",
   "name": "python3"
  },
  "language_info": {
   "codemirror_mode": {
    "name": "ipython",
    "version": 3
   },
   "file_extension": ".py",
   "mimetype": "text/x-python",
   "name": "python",
   "nbconvert_exporter": "python",
   "pygments_lexer": "ipython3",
   "version": "3.7.3"
  }
 },
 "nbformat": 4,
 "nbformat_minor": 2
}
