{
 "cells": [
  {
   "cell_type": "code",
   "execution_count": null,
   "metadata": {},
   "outputs": [],
   "source": [
    "import pandas as pd\n",
    "import numpy as np\n",
    "import os\n",
    "import matplotlib.pyplot as plt\n",
    "import datetime as dt\n",
    "import seaborn as sns\n",
    "import missingno as msno\n",
    "import statsmodels.formula.api as smf\n",
    "from scipy import stats\n",
    "\n",
    "\n",
    "%matplotlib inline"
   ]
  },
  {
   "cell_type": "code",
   "execution_count": null,
   "metadata": {},
   "outputs": [],
   "source": [
    "execs = pd.read_csv('../../data/raw/CSVs_Processados/execucoes.csv', parse_dates=['Data_Execucao',\n",
    "                                                                                  'Data_FechamentoCenario',\n",
    "                                                                                  'TimeStamp_Execucao'])\n",
    "execs.drop('Unnamed: 0', axis = 1, inplace = True)"
   ]
  },
  {
   "cell_type": "code",
   "execution_count": null,
   "metadata": {},
   "outputs": [],
   "source": [
    "pd.set_option('display.max_columns', None)"
   ]
  },
  {
   "cell_type": "code",
   "execution_count": null,
   "metadata": {},
   "outputs": [],
   "source": [
    "execs.shape"
   ]
  },
  {
   "cell_type": "code",
   "execution_count": null,
   "metadata": {},
   "outputs": [],
   "source": [
    "#Checando valores nulos da tabela\n",
    "msno.matrix(execs)"
   ]
  },
  {
   "cell_type": "code",
   "execution_count": null,
   "metadata": {},
   "outputs": [],
   "source": [
    "execs.head()"
   ]
  },
  {
   "cell_type": "markdown",
   "metadata": {},
   "source": [
    "## Análise e tratamentos dos dados de sistemas"
   ]
  },
  {
   "cell_type": "code",
   "execution_count": null,
   "metadata": {},
   "outputs": [],
   "source": [
    "#Criando dataframe para trabalhar com os sistemas\n",
    "sistemas = execs[['Sistema_Principal',\n",
    "                  'ID_RUN',\n",
    "                  'Classificacao',\n",
    "                  'Duracao_Segundos',\n",
    "                  'Motivo_Execucao',\n",
    "                  'Qtde_StepsATTACHMENT',\n",
    "                  'Qtde_TotalSteps',\n",
    "                  'Tipo_Execucao',\n",
    "                  'Target']]"
   ]
  },
  {
   "cell_type": "code",
   "execution_count": null,
   "metadata": {},
   "outputs": [],
   "source": [
    "sistemas.describe().T"
   ]
  },
  {
   "cell_type": "markdown",
   "metadata": {},
   "source": [
    "Duração possui muitos casos zerados. Apenas pelo describe, podemos ver que no mínimo 50% dos tempos estão zerados. Erro na hora de inputar os dados ou foi feito fora do processo padrão?\n",
    "\n",
    "Para os sistemas que possuem tempo zerado, porém temos vários casos em que há duração, podemos realizar uma regressão. Já para os casos que estão totalmente zerados ou próximo disso, realizar uma regressão seria inviável.\n",
    "\n",
    "Vamos, primeiramente, analisar os nossos dados."
   ]
  },
  {
   "cell_type": "code",
   "execution_count": null,
   "metadata": {},
   "outputs": [],
   "source": [
    "sns.pairplot(sistemas, hue='Tipo_Execucao', hue_order='')"
   ]
  },
  {
   "cell_type": "markdown",
   "metadata": {},
   "source": [
    "### 1. Comparando dados de Fast e Run"
   ]
  },
  {
   "cell_type": "code",
   "execution_count": null,
   "metadata": {},
   "outputs": [],
   "source": [
    "qtd_execs = sistemas['Duracao_Segundos'].count() \n",
    "\n",
    "qtd_fast = sistemas[sistemas['Tipo_Execucao'] == 'FAST']['Duracao_Segundos'].count()\n",
    "print('% Fast do total: ' + str(round((qtd_fast/qtd_execs)*100, 2)) + '%')\n",
    "print('Media Fast: ' + str(sistemas[sistemas['Tipo_Execucao'] == 'FAST']['Duracao_Segundos'].mean()))\n",
    "print('Std Fast: ' + str(sistemas[sistemas['Tipo_Execucao'] == 'FAST']['Duracao_Segundos'].std()))\n",
    "qtd_zeros_fast = sistemas[(sistemas['Tipo_Execucao'] == 'FAST') & (sistemas['Duracao_Segundos'] == 0)]['Duracao_Segundos'].count()\n",
    "total_fast = sistemas[(sistemas['Tipo_Execucao'] == 'FAST')]['Duracao_Segundos'].count()\n",
    "print('% de zeros Fast: ' + str(round((qtd_zeros_fast/total_fast)*100, 2)) + '%')\n",
    "\n",
    "print('')\n",
    "\n",
    "qtd_run = sistemas[sistemas['Tipo_Execucao'] == 'RUN']['Duracao_Segundos'].count()\n",
    "print('% Run do total: ' + str(round((qtd_run/qtd_execs)*100, 2)) + '%')\n",
    "print('Media Run: ' + str(sistemas[sistemas['Tipo_Execucao'] == 'RUN']['Duracao_Segundos'].mean()))\n",
    "print('Std Run: ' + str(sistemas[sistemas['Tipo_Execucao'] == 'RUN']['Duracao_Segundos'].std()))\n",
    "qtd_zeros_run = sistemas[(sistemas['Tipo_Execucao'] == 'RUN') & (sistemas['Duracao_Segundos'] == 0)]['Duracao_Segundos'].count()\n",
    "total_run = sistemas[(sistemas['Tipo_Execucao'] == 'RUN')]['Duracao_Segundos'].count()\n",
    "print('% de zeros Run: ' + str(round((qtd_zeros_run/total_run)*100, 2)) + '%')"
   ]
  },
  {
   "cell_type": "code",
   "execution_count": null,
   "metadata": {},
   "outputs": [],
   "source": [
    "sistemas[sistemas['Tipo_Execucao'] == 'FAST'].describe().T"
   ]
  },
  {
   "cell_type": "code",
   "execution_count": null,
   "metadata": {},
   "outputs": [],
   "source": [
    "sistemas[sistemas['Tipo_Execucao'] == 'RUN'].describe().T"
   ]
  },
  {
   "cell_type": "code",
   "execution_count": null,
   "metadata": {},
   "outputs": [],
   "source": [
    "fig, (ax, ax2) = plt.subplots(ncols=2, sharey=True)\n",
    "sistemas[sistemas['Tipo_Execucao'] == 'FAST']['Duracao_Segundos'].plot(kind='hist', ax = ax)\n",
    "sistemas[sistemas['Tipo_Execucao'] == 'RUN']['Duracao_Segundos'].plot(kind='hist', ax = ax2)"
   ]
  },
  {
   "cell_type": "code",
   "execution_count": null,
   "metadata": {},
   "outputs": [],
   "source": [
    "fig, (ax, ax2) = plt.subplots(ncols=2, sharey=True)\n",
    "sistemas[(sistemas['Tipo_Execucao'] == 'FAST') & (sistemas['Duracao_Segundos'] > 0)]['Duracao_Segundos'].plot(kind='hist', ax = ax)\n",
    "sistemas[(sistemas['Tipo_Execucao'] == 'RUN') & (sistemas['Duracao_Segundos'] > 0)]['Duracao_Segundos'].plot(kind='hist', ax = ax2)"
   ]
  },
  {
   "cell_type": "markdown",
   "metadata": {},
   "source": [
    "---\n",
    "<span style=\"color: Red; font-size:1.5em\">**Tratamento de dados**</span>"
   ]
  },
  {
   "cell_type": "code",
   "execution_count": null,
   "metadata": {},
   "outputs": [],
   "source": [
    "#Nós temos duas execuções com tempos muito discrepantes das demais, iremos removê-los da análise\n",
    "sorted(sistemas['Duracao_Segundos'], reverse=True)"
   ]
  },
  {
   "cell_type": "code",
   "execution_count": null,
   "metadata": {},
   "outputs": [],
   "source": [
    "sistemas = sistemas[sistemas['Duracao_Segundos'] < 70000]"
   ]
  },
  {
   "cell_type": "markdown",
   "metadata": {},
   "source": [
    "---"
   ]
  },
  {
   "cell_type": "code",
   "execution_count": null,
   "metadata": {},
   "outputs": [],
   "source": [
    "fig, (ax, ax2) = plt.subplots(ncols=2, sharey=True)\n",
    "sistemas[(sistemas['Tipo_Execucao'] == 'FAST') & (sistemas['Duracao_Segundos'] > 0)]['Duracao_Segundos'].plot(kind='hist', ax = ax, bins = 50)\n",
    "sistemas[(sistemas['Tipo_Execucao'] == 'RUN') & (sistemas['Duracao_Segundos'] > 0)]['Duracao_Segundos'].plot(kind='hist', ax = ax2, bins = 50)"
   ]
  },
  {
   "cell_type": "markdown",
   "metadata": {},
   "source": [
    "## 2. Análise de sistemas"
   ]
  },
  {
   "cell_type": "code",
   "execution_count": null,
   "metadata": {},
   "outputs": [],
   "source": [
    "qtd_execs_sistemas = pd.DataFrame(sistemas.Sistema_Principal.value_counts())\n",
    "qtd_execs_sistemas.reset_index(inplace=True)\n",
    "qtd_execs_sistemas.rename(columns = {'index': 'sistema_principal', 'Sistema_Principal': 'qtd_total'}, inplace = True)"
   ]
  },
  {
   "cell_type": "code",
   "execution_count": null,
   "metadata": {},
   "outputs": [],
   "source": [
    "qtd_execs_sistemas.head()"
   ]
  },
  {
   "cell_type": "code",
   "execution_count": null,
   "metadata": {},
   "outputs": [],
   "source": [
    "qtd_execs_sistemas.shape"
   ]
  },
  {
   "cell_type": "markdown",
   "metadata": {},
   "source": [
    "Temos, no total, **203 sistemas principais diferentes**. Vamos analisar o % de tempo zerado nós temos para cada um deles:"
   ]
  },
  {
   "cell_type": "code",
   "execution_count": null,
   "metadata": {},
   "outputs": [],
   "source": [
    "qtd_execs_sistemas_zerados = pd.DataFrame(sistemas[sistemas['Duracao_Segundos'] == 0].Sistema_Principal.value_counts())\n",
    "qtd_execs_sistemas_zerados.reset_index(inplace=True)\n",
    "qtd_execs_sistemas_zerados.rename(columns = {'index': 'sistema_principal', 'Sistema_Principal': 'qtd_zerados'}, inplace = True)"
   ]
  },
  {
   "cell_type": "code",
   "execution_count": null,
   "metadata": {},
   "outputs": [],
   "source": [
    "qtd_execs_sistemas_zerados.head()"
   ]
  },
  {
   "cell_type": "code",
   "execution_count": null,
   "metadata": {},
   "outputs": [],
   "source": [
    "qtd_execs_sistemas = pd.merge(qtd_execs_sistemas, \n",
    "                              qtd_execs_sistemas_zerados, \n",
    "                              how='left', on='sistema_principal')"
   ]
  },
  {
   "cell_type": "code",
   "execution_count": null,
   "metadata": {},
   "outputs": [],
   "source": [
    "qtd_execs_sistemas['%_zerados_total'] = qtd_execs_sistemas['qtd_zerados']/qtd_execs_sistemas['qtd_total']"
   ]
  },
  {
   "cell_type": "code",
   "execution_count": null,
   "metadata": {},
   "outputs": [],
   "source": [
    "qtd_execs_sistemas.head()"
   ]
  },
  {
   "cell_type": "code",
   "execution_count": null,
   "metadata": {},
   "outputs": [],
   "source": [
    "#Sistemas com mais de 80% de suas execuções tempos zerados\n",
    "qtd_execs_sistemas[qtd_execs_sistemas['%_zerados_total'] > 0.8].shape"
   ]
  },
  {
   "cell_type": "code",
   "execution_count": null,
   "metadata": {},
   "outputs": [],
   "source": [
    "qtd_execs_sistemas[qtd_execs_sistemas['%_zerados_total'] > 0.8]['qtd_total'].sum()"
   ]
  },
  {
   "cell_type": "code",
   "execution_count": null,
   "metadata": {},
   "outputs": [],
   "source": [
    "#Sistemas com todas as execuções zeradas\n",
    "qtd_execs_sistemas[qtd_execs_sistemas['%_zerados_total'] == 1].shape"
   ]
  },
  {
   "cell_type": "markdown",
   "metadata": {},
   "source": [
    "Dos nossos 203 sistemas, **60 possuem mais de 80% de suas execuções zeradas, sendo que 31 deles estão totalmente zerados**"
   ]
  },
  {
   "cell_type": "code",
   "execution_count": null,
   "metadata": {},
   "outputs": [],
   "source": [
    "sistemas_80_mais_zerados = qtd_execs_sistemas[qtd_execs_sistemas['%_zerados_total'] > 0.8]['sistema_principal'].tolist()\n",
    "sistemas_total_zerados = qtd_execs_sistemas[qtd_execs_sistemas['%_zerados_total'] == 1]['sistema_principal'].tolist()"
   ]
  },
  {
   "cell_type": "markdown",
   "metadata": {},
   "source": [
    "Para que nossa regressão da duração faça sentido, iremos retirar os sistemas que possuem mais de 80% de seu tempo zerado, removendo **4427** linhas do nosso dataset principal"
   ]
  },
  {
   "cell_type": "markdown",
   "metadata": {},
   "source": [
    "---\n",
    "<span style=\"color: Red; font-size:1.5em\">**Tratamento de dados**</span>"
   ]
  },
  {
   "cell_type": "code",
   "execution_count": null,
   "metadata": {},
   "outputs": [],
   "source": [
    "#O til é para indicar o contrário da condição, portanto que os demais sistemas que tenham tempo zerado menor ou igual a 80\n",
    "sistemas = sistemas[~sistemas['Sistema_Principal'].isin(sistemas_80_mais_zerados)]"
   ]
  },
  {
   "cell_type": "code",
   "execution_count": null,
   "metadata": {},
   "outputs": [],
   "source": [
    "sistemas.shape"
   ]
  },
  {
   "cell_type": "markdown",
   "metadata": {},
   "source": [
    "---"
   ]
  },
  {
   "cell_type": "markdown",
   "metadata": {},
   "source": [
    "## 3. Análise dos dados nulos"
   ]
  },
  {
   "cell_type": "code",
   "execution_count": null,
   "metadata": {},
   "outputs": [],
   "source": [
    "sistemas.isna().sum()"
   ]
  },
  {
   "cell_type": "markdown",
   "metadata": {},
   "source": [
    "Mais da metade de nossas observações em Motivo_Execucao estão nulas, portanto iremos remover essa feature, visto que ela pouco agregaria para nossa regressão"
   ]
  },
  {
   "cell_type": "code",
   "execution_count": null,
   "metadata": {},
   "outputs": [],
   "source": [
    "sistemas.drop('Motivo_Execucao', axis=1, inplace = True)"
   ]
  },
  {
   "cell_type": "code",
   "execution_count": null,
   "metadata": {},
   "outputs": [],
   "source": [
    "sistemas.isna().sum()"
   ]
  },
  {
   "cell_type": "markdown",
   "metadata": {},
   "source": [
    "Ainda temos alguns valores nulos em target. Iremos substitui-lo por zero para indicar que eles não foram faturados"
   ]
  },
  {
   "cell_type": "code",
   "execution_count": null,
   "metadata": {},
   "outputs": [],
   "source": [
    "sistemas.fillna(0, inplace = True)"
   ]
  },
  {
   "cell_type": "code",
   "execution_count": null,
   "metadata": {},
   "outputs": [],
   "source": [
    "sistemas.isna().sum()"
   ]
  },
  {
   "cell_type": "code",
   "execution_count": null,
   "metadata": {},
   "outputs": [],
   "source": [
    "etios sedan cinza zhl-9817"
   ]
  },
  {
   "cell_type": "markdown",
   "metadata": {},
   "source": [
    "## 3. Hora de regredir"
   ]
  },
  {
   "cell_type": "markdown",
   "metadata": {},
   "source": [
    "Primeiro, iremos separar os datasets, ficando apenas com aquelas execuções não zeradas para rodar nosso modelo"
   ]
  },
  {
   "cell_type": "code",
   "execution_count": null,
   "metadata": {},
   "outputs": [],
   "source": [
    "lista_colunas = ['Sistema_Principal',\n",
    "                 'ID_RUN',\n",
    "                 'Classificacao',\n",
    "                 'Duracao_Segundos',\n",
    "                 'Qtde_StepsATTACHMENT',\n",
    "                 'Qtde_TotalSteps',\n",
    "                 'Tipo_Execucao',\n",
    "                 'Target']"
   ]
  },
  {
   "cell_type": "code",
   "execution_count": null,
   "metadata": {},
   "outputs": [],
   "source": [
    "sistemas_zerados = sistemas[sistemas['Duracao_Segundos'] == 0].copy()\n",
    "sistemas_com_tempo = sistemas[sistemas['Duracao_Segundos'] != 0].copy()"
   ]
  },
  {
   "cell_type": "code",
   "execution_count": null,
   "metadata": {},
   "outputs": [],
   "source": [
    "print('Observações zeradas: ' + str(sistemas_zerados.shape[0]))\n",
    "print('Observações não zeradas: ' + str(sistemas_com_tempo.shape[0]))"
   ]
  },
  {
   "cell_type": "markdown",
   "metadata": {},
   "source": [
    "Agora, criaremos um dataset de treino do nosso modelo e outro de teste para verificar a acurácia dele"
   ]
  },
  {
   "cell_type": "markdown",
   "metadata": {},
   "source": [
    "## Modelo Random Forest"
   ]
  },
  {
   "cell_type": "code",
   "execution_count": null,
   "metadata": {},
   "outputs": [],
   "source": [
    "from sklearn.model_selection import train_test_split\n",
    "#Primeiro, iremos fazer a regressão sem o nome dos sistemas e utilizando a qtd total de steps\n",
    "X = sistemas_com_tempo[['Sistema_Principal',\n",
    "                        'Classificacao',\n",
    "                        'Qtde_TotalSteps',\n",
    "                        'Tipo_Execucao',\n",
    "                        'Target']]\n",
    "X = pd.get_dummies(X, drop_first=True)\n",
    "y = sistemas_com_tempo['Duracao_Segundos']\n",
    "\n",
    "X_train, X_test, y_train, y_test = train_test_split(X, y, test_size=0.2, random_state=42)"
   ]
  },
  {
   "cell_type": "code",
   "execution_count": null,
   "metadata": {},
   "outputs": [],
   "source": [
    "from sklearn.ensemble import RandomForestRegressor\n",
    "modelo_RF = RandomForestRegressor()\n",
    "modelo_RF = modelo_RF.fit(X_train, y_train)"
   ]
  },
  {
   "cell_type": "code",
   "execution_count": null,
   "metadata": {},
   "outputs": [],
   "source": [
    "from sklearn.metrics import mean_squared_error, r2_score, median_absolute_error\n",
    "\n",
    "yhat_train = modelo_RF.predict(X_train) # previsao dos dados de treino para calcular as métricas\n",
    "yhat_test = modelo_RF.predict(X_test) # previsao dos dados de teste para calcular métricas\n",
    "\n",
    "print('-----Dados de Treino-----')\n",
    "print('MSE - treino', mean_squared_error(y_train, yhat_train))\n",
    "print('MAE - treino', median_absolute_error(y_train, yhat_train))\n",
    "print('R2 - treino', r2_score(y_train, yhat_train))\n",
    "\n",
    "print('\\n-----Dados de Teste-----')\n",
    "print('MSE - test', mean_squared_error(y_test, yhat_test))\n",
    "print('MAE - test', median_absolute_error(y_test, yhat_test))\n",
    "print('R2 - test', r2_score(y_test, yhat_test))"
   ]
  },
  {
   "cell_type": "markdown",
   "metadata": {},
   "source": [
    "## Modelo Linear Regression"
   ]
  },
  {
   "cell_type": "code",
   "execution_count": null,
   "metadata": {},
   "outputs": [],
   "source": [
    "X = sistemas_com_tempo[['Sistema_Principal',\n",
    "                        'Classificacao',\n",
    "                        'Qtde_TotalSteps',\n",
    "                        'Tipo_Execucao',\n",
    "                        'Target']]\n",
    "X = pd.get_dummies(X, drop_first=True)\n",
    "y = sistemas_com_tempo[['Duracao_Segundos']]\n",
    "\n",
    "X_train, X_test, y_train, y_test = train_test_split(X, y, test_size=0.2, random_state=42)"
   ]
  },
  {
   "cell_type": "code",
   "execution_count": null,
   "metadata": {},
   "outputs": [],
   "source": [
    "from sklearn.linear_model import LinearRegression\n",
    "modelo_MQO = LinearRegression()\n",
    "modelo_MQO = modelo_MQO.fit(X_train, y_train)"
   ]
  },
  {
   "cell_type": "code",
   "execution_count": null,
   "metadata": {},
   "outputs": [],
   "source": [
    "yhat_train = modelo_MQO.predict(X_train) # previsao dos dados de treino para calcular as métricas\n",
    "yhat_test = modelo_MQO.predict(X_test) # previsao dos dados de teste para calcular métricas\n",
    "\n",
    "print('-----Dados de Treino-----')\n",
    "print('MSE - treino', mean_squared_error(y_train, yhat_train))\n",
    "print('MAE - treino', median_absolute_error(y_train, yhat_train))\n",
    "print('R2 - treino', r2_score(y_train, yhat_train))\n",
    "\n",
    "print('\\n-----Dados de Teste-----')\n",
    "print('MSE - test', mean_squared_error(y_test, yhat_test))\n",
    "print('MAE - test', median_absolute_error(y_test, yhat_test))\n",
    "print('R2 - test', r2_score(y_test, yhat_test))"
   ]
  },
  {
   "cell_type": "markdown",
   "metadata": {},
   "source": [
    "## Modelo XGBoost"
   ]
  },
  {
   "cell_type": "code",
   "execution_count": null,
   "metadata": {},
   "outputs": [],
   "source": []
  },
  {
   "cell_type": "code",
   "execution_count": null,
   "metadata": {},
   "outputs": [],
   "source": []
  },
  {
   "cell_type": "code",
   "execution_count": null,
   "metadata": {},
   "outputs": [],
   "source": []
  },
  {
   "cell_type": "code",
   "execution_count": null,
   "metadata": {},
   "outputs": [],
   "source": []
  },
  {
   "cell_type": "code",
   "execution_count": null,
   "metadata": {},
   "outputs": [],
   "source": []
  },
  {
   "cell_type": "code",
   "execution_count": null,
   "metadata": {},
   "outputs": [],
   "source": []
  },
  {
   "cell_type": "code",
   "execution_count": null,
   "metadata": {},
   "outputs": [],
   "source": []
  },
  {
   "cell_type": "code",
   "execution_count": null,
   "metadata": {},
   "outputs": [],
   "source": []
  },
  {
   "cell_type": "code",
   "execution_count": null,
   "metadata": {},
   "outputs": [],
   "source": []
  },
  {
   "cell_type": "code",
   "execution_count": null,
   "metadata": {},
   "outputs": [],
   "source": []
  },
  {
   "cell_type": "code",
   "execution_count": null,
   "metadata": {},
   "outputs": [],
   "source": []
  },
  {
   "cell_type": "code",
   "execution_count": null,
   "metadata": {},
   "outputs": [],
   "source": []
  },
  {
   "cell_type": "code",
   "execution_count": null,
   "metadata": {},
   "outputs": [],
   "source": []
  },
  {
   "cell_type": "code",
   "execution_count": null,
   "metadata": {},
   "outputs": [],
   "source": []
  },
  {
   "cell_type": "code",
   "execution_count": null,
   "metadata": {},
   "outputs": [],
   "source": []
  }
 ],
 "metadata": {
  "kernelspec": {
   "display_name": "Python 3",
   "language": "python",
   "name": "python3"
  },
  "language_info": {
   "codemirror_mode": {
    "name": "ipython",
    "version": 3
   },
   "file_extension": ".py",
   "mimetype": "text/x-python",
   "name": "python",
   "nbconvert_exporter": "python",
   "pygments_lexer": "ipython3",
   "version": "3.7.3"
  }
 },
 "nbformat": 4,
 "nbformat_minor": 2
}
