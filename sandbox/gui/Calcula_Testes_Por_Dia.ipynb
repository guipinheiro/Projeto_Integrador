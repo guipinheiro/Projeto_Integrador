{
 "cells": [
  {
   "cell_type": "code",
   "execution_count": null,
   "metadata": {},
   "outputs": [],
   "source": [
    "import pandas as pd\n",
    "import numpy as np\n",
    "import os\n",
    "import matplotlib.pyplot as plt\n",
    "import datetime as dt\n",
    "\n",
    "%matplotlib inline"
   ]
  },
  {
   "cell_type": "code",
   "execution_count": null,
   "metadata": {},
   "outputs": [],
   "source": [
    "full = pd.read_csv('../../data/raw/full_database.csv')"
   ]
  },
  {
   "cell_type": "code",
   "execution_count": null,
   "metadata": {},
   "outputs": [],
   "source": [
    "recursos = pd.read_csv('../../data/raw/CSVs_Processados/recursos.csv')\n",
    "recursos.drop('Unnamed: 0', axis = 1, inplace = True)"
   ]
  },
  {
   "cell_type": "code",
   "execution_count": null,
   "metadata": {},
   "outputs": [],
   "source": [
    "execs = pd.read_csv('../../data/raw/CSVs_Processados/execucoes.csv', parse_dates=['Data_Execucao',\n",
    "                                                                                   'Data_FechamentoCenario',\n",
    "                                                                                   'TimeStamp_Execucao'])\n",
    "execs.drop('Unnamed: 0', axis = 1, inplace = True)"
   ]
  },
  {
   "cell_type": "code",
   "execution_count": null,
   "metadata": {},
   "outputs": [],
   "source": [
    "execs.shape"
   ]
  },
  {
   "cell_type": "code",
   "execution_count": null,
   "metadata": {},
   "outputs": [],
   "source": [
    "execs = execs[pd.notnull(execs['Data_Execucao'])]"
   ]
  },
  {
   "cell_type": "code",
   "execution_count": null,
   "metadata": {},
   "outputs": [],
   "source": [
    "#Filtrando testes executados a partir de 2018-12-01'\n",
    "start_date = '2018-12-01'\n",
    "execs = execs[execs['Data_Execucao'] >= start_date]"
   ]
  },
  {
   "cell_type": "code",
   "execution_count": null,
   "metadata": {},
   "outputs": [],
   "source": [
    "execs.head()"
   ]
  },
  {
   "cell_type": "markdown",
   "metadata": {},
   "source": [
    "---"
   ]
  },
  {
   "cell_type": "markdown",
   "metadata": {},
   "source": [
    "Criando Base com informações **testers x testes totais**"
   ]
  },
  {
   "cell_type": "code",
   "execution_count": null,
   "metadata": {},
   "outputs": [],
   "source": [
    "pivot_testes_por_tester = pd.pivot_table(execs, \n",
    "                                         values='ID_Execucao',\n",
    "                                         columns=['Data_Execucao'],\n",
    "                                         index = 'Testador_Real',\n",
    "                                         aggfunc = 'count')"
   ]
  },
  {
   "cell_type": "code",
   "execution_count": null,
   "metadata": {},
   "outputs": [],
   "source": [
    "pivot_testes_por_tester.shape"
   ]
  },
  {
   "cell_type": "code",
   "execution_count": null,
   "metadata": {},
   "outputs": [],
   "source": [
    "pivot_testes_por_tester.head()"
   ]
  },
  {
   "cell_type": "code",
   "execution_count": null,
   "metadata": {},
   "outputs": [],
   "source": [
    "pivot_testes_por_tester.reset_index(inplace = True)"
   ]
  },
  {
   "cell_type": "code",
   "execution_count": null,
   "metadata": {},
   "outputs": [],
   "source": [
    "#criar coluna com contagem de dias trabalhados\n",
    "pivot_testes_por_tester['contagem_testes_total'] = pivot_testes_por_tester.iloc[:,1:].count(axis=1)"
   ]
  },
  {
   "cell_type": "code",
   "execution_count": null,
   "metadata": {},
   "outputs": [],
   "source": [
    "#criar coluna com contagem de testes totais\n",
    "pivot_testes_por_tester['soma_testes_total'] = pivot_testes_por_tester.iloc[:,1:-1].sum(axis=1) "
   ]
  },
  {
   "cell_type": "code",
   "execution_count": null,
   "metadata": {},
   "outputs": [],
   "source": [
    "#criar coluna média de testes por dia\n",
    "pivot_testes_por_tester['media_testes_total'] =  pivot_testes_por_tester['soma_testes_total']/pivot_testes_por_tester['contagem_testes_total']"
   ]
  },
  {
   "cell_type": "code",
   "execution_count": null,
   "metadata": {},
   "outputs": [],
   "source": [
    "#Base com informações totais acerca do teste na base total\n",
    "base_testers = pivot_testes_por_tester[['Testador_Real',\n",
    "                                        'contagem_testes_total',\n",
    "                                        'soma_testes_total',\n",
    "                                        'media_testes_total']].copy()"
   ]
  },
  {
   "cell_type": "code",
   "execution_count": null,
   "metadata": {},
   "outputs": [],
   "source": [
    "base_testers.rename({'Testador_Real':'testador_real'}, inplace = True, axis = 1)"
   ]
  },
  {
   "cell_type": "code",
   "execution_count": null,
   "metadata": {},
   "outputs": [],
   "source": [
    "base_testers.head()"
   ]
  },
  {
   "cell_type": "code",
   "execution_count": null,
   "metadata": {},
   "outputs": [],
   "source": [
    "#pivot apenas com testes billable\n",
    "pivot_testes_por_tester_bill = pd.pivot_table(execs[execs['Target']==1], \n",
    "                                         values='ID_Execucao',\n",
    "                                         columns=['Data_Execucao'],\n",
    "                                         index = 'Testador_Real',\n",
    "                                         aggfunc = 'count')\n",
    "pivot_testes_por_tester_bill.reset_index(inplace = True)"
   ]
  },
  {
   "cell_type": "code",
   "execution_count": null,
   "metadata": {},
   "outputs": [],
   "source": [
    "pivot_testes_por_tester_bill['soma_testes_total_bill'] = pivot_testes_por_tester_bill.iloc[:,1:].sum(axis=1) "
   ]
  },
  {
   "cell_type": "code",
   "execution_count": null,
   "metadata": {},
   "outputs": [],
   "source": [
    "adicionando colunas com número total de testes billable\n",
    "base_testers = pd.merge(left=base_testers,\n",
    "                        right=pivot_testes_por_tester_bill[['Testador_Real','soma_testes_total_bill']],\n",
    "                        left_on='testador_real',\n",
    "                        right_on='Testador_Real',\n",
    "                        how='left')"
   ]
  },
  {
   "cell_type": "code",
   "execution_count": null,
   "metadata": {},
   "outputs": [],
   "source": [
    "base_testers.drop('Testador_Real', axis=1, inplace = True)"
   ]
  },
  {
   "cell_type": "code",
   "execution_count": null,
   "metadata": {},
   "outputs": [],
   "source": [
    "base_testers.head()"
   ]
  },
  {
   "cell_type": "code",
   "execution_count": null,
   "metadata": {},
   "outputs": [],
   "source": [
    "base_testers['%_testes_billable'] = base_testers['soma_testes_total_bill']/base_testers['soma_testes_total']"
   ]
  },
  {
   "cell_type": "code",
   "execution_count": null,
   "metadata": {},
   "outputs": [],
   "source": [
    "print('Média de testes billables: ' + str(base_testers['%_testes_billable'].mean()))\n",
    "print('Desvpad de testes billables: ' + str(base_testers['%_testes_billable'].std()))\n",
    "base_testers['%_testes_billable'].hist()"
   ]
  },
  {
   "cell_type": "code",
   "execution_count": null,
   "metadata": {},
   "outputs": [],
   "source": [
    "base_testers.head()"
   ]
  },
  {
   "cell_type": "markdown",
   "metadata": {},
   "source": [
    "---"
   ]
  },
  {
   "cell_type": "markdown",
   "metadata": {},
   "source": [
    "Criando Base com informações testers x testes **por mês**"
   ]
  },
  {
   "cell_type": "code",
   "execution_count": null,
   "metadata": {},
   "outputs": [],
   "source": [
    "execs['data_execuca_ano'] = pd.DatetimeIndex(execs['Data_Execucao']).year\n",
    "execs['data_execuca_mes'] = pd.DatetimeIndex(execs['Data_Execucao']).month\n",
    "execs['data_execuca_dia'] = pd.DatetimeIndex(execs['Data_Execucao']).day"
   ]
  },
  {
   "cell_type": "code",
   "execution_count": null,
   "metadata": {},
   "outputs": [],
   "source": [
    "execs = execs.astype({'data_execuca_ano': str,\n",
    "                      'data_execuca_mes': str,\n",
    "                      'data_execuca_dia': str})\n",
    "execs.info()"
   ]
  },
  {
   "cell_type": "code",
   "execution_count": null,
   "metadata": {},
   "outputs": [],
   "source": [
    "execs['data_execuca_anomes'] = execs['data_execuca_ano'] + execs['data_execuca_mes']"
   ]
  },
  {
   "cell_type": "code",
   "execution_count": null,
   "metadata": {},
   "outputs": [],
   "source": [
    "execs['data_execuca_anomesdia'] = execs['data_execuca_ano'] + execs['data_execuca_mes'] + execs['data_execuca_dia'] "
   ]
  },
  {
   "cell_type": "code",
   "execution_count": null,
   "metadata": {},
   "outputs": [],
   "source": [
    "#Testes por mês\n",
    "pivot_testes_por_tester_mes = pd.pivot_table(execs, \n",
    "                                         values='ID_Execucao',\n",
    "                                         columns=['data_execuca_anomes'],\n",
    "                                         index='Testador_Real',\n",
    "                                         aggfunc='count')\n",
    "pivot_testes_por_tester_mes.reset_index(inplace = True)"
   ]
  },
  {
   "cell_type": "code",
   "execution_count": null,
   "metadata": {},
   "outputs": [],
   "source": [
    "pivot_testes_por_tester_mes.head()"
   ]
  },
  {
   "cell_type": "code",
   "execution_count": null,
   "metadata": {},
   "outputs": [],
   "source": [
    "#dias_trabalhados por mês por tester\n",
    "pivot_testes_por_tester_mes_dias = pd.pivot_table(execs, \n",
    "                                         values='data_execuca_anomesdia',\n",
    "                                         columns=['data_execuca_anomes'],\n",
    "                                         index='Testador_Real',\n",
    "                                         aggfunc=pd.Series.nunique)\n",
    "pivot_testes_por_tester_mes_dias.reset_index(inplace = True)"
   ]
  },
  {
   "cell_type": "code",
   "execution_count": null,
   "metadata": {},
   "outputs": [],
   "source": [
    "pivot_testes_por_tester_mes_dias.rename({'201812': '201812_dia',\n",
    "                                    '20191': '20191_dia',\n",
    "                                    '20192': '20192_dia',\n",
    "                                    '20193': '20193_dia',\n",
    "                                    '20194': '20194_dia'}, axis=1, inplace = True)\n",
    "pivot_testes_por_tester_mes_dias.head()"
   ]
  },
  {
   "cell_type": "code",
   "execution_count": null,
   "metadata": {},
   "outputs": [],
   "source": [
    "pivot_testes_por_tester_mes = pd.merge(pivot_testes_por_tester_mes,\n",
    "                                       pivot_testes_por_tester_mes_dias,\n",
    "                                       on='Testador_Real')"
   ]
  },
  {
   "cell_type": "code",
   "execution_count": null,
   "metadata": {},
   "outputs": [],
   "source": [
    "pivot_testes_por_tester_mes['201812%'] = pivot_testes_por_tester_mes['201812']/pivot_testes_por_tester_mes['201812_dia']\n",
    "pivot_testes_por_tester_mes['20191%'] = pivot_testes_por_tester_mes['20191']/pivot_testes_por_tester_mes['20191_dia']\n",
    "pivot_testes_por_tester_mes['20192%'] = pivot_testes_por_tester_mes['20192']/pivot_testes_por_tester_mes['20192_dia']\n",
    "pivot_testes_por_tester_mes['20193%'] = pivot_testes_por_tester_mes['20193']/pivot_testes_por_tester_mes['20193_dia']\n",
    "pivot_testes_por_tester_mes['20194%'] = pivot_testes_por_tester_mes['20194']/pivot_testes_por_tester_mes['20194_dia']"
   ]
  },
  {
   "cell_type": "code",
   "execution_count": null,
   "metadata": {},
   "outputs": [],
   "source": [
    "pivot_testes_por_tester_mes.head()"
   ]
  },
  {
   "cell_type": "code",
   "execution_count": null,
   "metadata": {},
   "outputs": [],
   "source": [
    "#Testes por mês\n",
    "pivot_testes_por_tester_mes_bill = pd.pivot_table(execs[execs['Target']==1], \n",
    "                                         values='ID_Execucao',\n",
    "                                         columns=['data_execuca_anomes'],\n",
    "                                         index='Testador_Real',\n",
    "                                         aggfunc='count')\n",
    "pivot_testes_por_tester_mes_bill.reset_index(inplace = True)"
   ]
  },
  {
   "cell_type": "code",
   "execution_count": null,
   "metadata": {},
   "outputs": [],
   "source": [
    "pivot_testes_por_tester_mes_bill.rename({'201812': '201812_bill',\n",
    "                                    '20191': '20191_bill',\n",
    "                                    '20192': '20192_bill',\n",
    "                                    '20193': '20193_bill',\n",
    "                                    '20194': '20194_bill'}, axis=1, inplace = True)"
   ]
  },
  {
   "cell_type": "code",
   "execution_count": null,
   "metadata": {},
   "outputs": [],
   "source": [
    "pivot_testes_por_tester_mes = pd.merge(pivot_testes_por_tester_mes,\n",
    "                                       pivot_testes_por_tester_mes_bill,\n",
    "                                       on='Testador_Real')"
   ]
  },
  {
   "cell_type": "code",
   "execution_count": null,
   "metadata": {},
   "outputs": [],
   "source": [
    "pivot_testes_por_tester_mes.head()"
   ]
  },
  {
   "cell_type": "code",
   "execution_count": null,
   "metadata": {},
   "outputs": [],
   "source": [
    "pivot_testes_por_tester_mes['201812%_bill'] =pivot_testes_por_tester_mes['201812_bill']/pivot_testes_por_tester_mes['201812']\n",
    "pivot_testes_por_tester_mes['20191%_bill'] = pivot_testes_por_tester_mes['20191_bill']/pivot_testes_por_tester_mes['20191']\n",
    "pivot_testes_por_tester_mes['20192%_bill'] = pivot_testes_por_tester_mes['20192_bill']/pivot_testes_por_tester_mes['20192']\n",
    "pivot_testes_por_tester_mes['20193%_bill'] = pivot_testes_por_tester_mes['20193_bill']/pivot_testes_por_tester_mes['20193']\n",
    "pivot_testes_por_tester_mes['20194%_bill'] = pivot_testes_por_tester_mes['20194_bill']/pivot_testes_por_tester_mes['20194']"
   ]
  },
  {
   "cell_type": "code",
   "execution_count": null,
   "metadata": {},
   "outputs": [],
   "source": [
    "pivot_testes_por_tester_mes.head()"
   ]
  },
  {
   "cell_type": "markdown",
   "metadata": {},
   "source": [
    "Dicionário de pivot_testes_por_tester_mes    \n",
    "- **YYYYMM** = Testes realizados naquele mês por empregado    \n",
    "- **YYYYMM_dia** = Dias trabalhados naquele mês por empregado   \n",
    "- **YYYYMM%** = Média de testes realizados por mês por empregado   \n",
    "- **YYYYMM_bill** = Testes faturados realizados por mês por empregado   \n",
    "- **YYYYMM%_bill** = Testes faturados / Testes totais por mês por empregada"
   ]
  },
  {
   "cell_type": "code",
   "execution_count": null,
   "metadata": {},
   "outputs": [],
   "source": []
  },
  {
   "cell_type": "markdown",
   "metadata": {},
   "source": [
    "---"
   ]
  },
  {
   "cell_type": "markdown",
   "metadata": {},
   "source": [
    "Checking Clusters"
   ]
  },
  {
   "cell_type": "code",
   "execution_count": null,
   "metadata": {},
   "outputs": [],
   "source": [
    "# clusters = pd.read_csv('../../data/raw/CSVs_Processados/cluster.csv')"
   ]
  },
  {
   "cell_type": "code",
   "execution_count": null,
   "metadata": {},
   "outputs": [],
   "source": [
    "# clusters.head()"
   ]
  },
  {
   "cell_type": "code",
   "execution_count": null,
   "metadata": {},
   "outputs": [],
   "source": [
    "# base_testers = pd.merge(left=base_testers,\n",
    "#                         right=clusters[['ALM USER','cluster']],\n",
    "#                         left_on='testador_real',\n",
    "#                         right_on='ALM USER',\n",
    "#                         how='left')"
   ]
  },
  {
   "cell_type": "markdown",
   "metadata": {},
   "source": [
    "---"
   ]
  },
  {
   "cell_type": "code",
   "execution_count": null,
   "metadata": {},
   "outputs": [],
   "source": []
  }
 ],
 "metadata": {
  "kernelspec": {
   "display_name": "Python 3",
   "language": "python",
   "name": "python3"
  },
  "language_info": {
   "codemirror_mode": {
    "name": "ipython",
    "version": 3
   },
   "file_extension": ".py",
   "mimetype": "text/x-python",
   "name": "python",
   "nbconvert_exporter": "python",
   "pygments_lexer": "ipython3",
   "version": "3.7.3"
  }
 },
 "nbformat": 4,
 "nbformat_minor": 2
}
